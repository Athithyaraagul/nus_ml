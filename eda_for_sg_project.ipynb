{
 "cells": [
  {
   "cell_type": "code",
   "execution_count": null,
   "metadata": {},
   "outputs": [],
   "source": [
    "import os\n",
    "import cv2\n",
    "import numpy as np\n",
    "import matplotlib.pyplot as plt\n",
    "\n",
    "# Path to the folder containing the images\n",
    "folder_path = \"/Users/Athithyaraagul/Code/Machine_Learning/Orcal-Cancer-Pic-Data/train/OSCC\"\n",
    "\n",
    "# Iterate through each image in the folder\n",
    "for filename in os.listdir(folder_path):\n",
    "    if filename.endswith(\".jpg\") or filename.endswith(\".png\"):\n",
    "        # Load the image\n",
    "        image_path = os.path.join(folder_path, filename)\n",
    "        image = cv2.imread(image_path)\n",
    "\n",
    "        # Convert the image to RGB\n",
    "        image_rgb = cv2.cvtColor(image, cv2.COLOR_BGR2RGB)\n",
    "\n",
    "        # Calculate the histogram for each color channel\n",
    "        overall_hist = np.zeros((256, 3))\n",
    "        for i in range(3):  # Iterate over RGB channels\n",
    "            hist = cv2.calcHist([image_rgb], [i], None, [256], [0, 256])\n",
    "            overall_hist[:, i] = hist.flatten()\n",
    "\n",
    "        # Calculate mean and standard deviation for each channel\n",
    "        mean_val = np.mean(image_rgb, axis=(0, 1))\n",
    "        std_val = np.std(image_rgb, axis=(0, 1))\n",
    "\n",
    "        # Plot the combined RGB histogram\n",
    "        plt.figure(figsize=(7, 7))\n",
    "\n",
    "        # Plot RGB histogram\n",
    "        for i in range(3):\n",
    "            plt.plot(overall_hist[:, i], color=['red', 'green', 'blue'][i], label=f'{[\"Red\", \"Green\", \"Blue\"][i]} Channel')\n",
    "\n",
    "        plt.title(f'Combined RGB Histogram for {filename}')\n",
    "        plt.xlabel('Pixel Value')\n",
    "        plt.ylabel('Frequency')\n",
    "        plt.legend()\n",
    "        plt.show()\n",
    "\n",
    "        # Display mean and standard deviation values\n",
    "        print(f\"Image: {filename}\")\n",
    "        print(f\"Mean and Std Dev of Red Channel:\\n{mean_val[0]:.2f}\\n{std_val[0]:.2f}\")\n",
    "        print(f\"Mean and Std Dev of Green Channel:\\n{mean_val[1]:.2f}\\n{std_val[1]:.2f}\")\n",
    "        print(f\"Mean and Std Dev of Blue Channel:\\n{mean_val[2]:.2f}\\n{std_val[2]:.2f}\")\n",
    "        print(\"\\n\\n\")\n"
   ]
  }
 ],
 "metadata": {
  "kernelspec": {
   "display_name": "tensorflow",
   "language": "python",
   "name": "python3"
  },
  "language_info": {
   "codemirror_mode": {
    "name": "ipython",
    "version": 3
   },
   "file_extension": ".py",
   "mimetype": "text/x-python",
   "name": "python",
   "nbconvert_exporter": "python",
   "pygments_lexer": "ipython3",
   "version": "3.8.18"
  }
 },
 "nbformat": 4,
 "nbformat_minor": 2
}
